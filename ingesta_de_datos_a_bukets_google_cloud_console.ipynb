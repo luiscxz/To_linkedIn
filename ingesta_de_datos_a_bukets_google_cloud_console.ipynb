{
 "cells": [
  {
   "cell_type": "code",
   "execution_count": 1,
   "id": "caaa95c4",
   "metadata": {},
   "outputs": [],
   "source": [
    "import polars as pl\n",
    "import os"
   ]
  },
  {
   "cell_type": "code",
   "execution_count": 2,
   "id": "66d4cdf5",
   "metadata": {},
   "outputs": [
    {
     "data": {
      "text/html": [
       "<div><style>\n",
       ".dataframe > thead > tr,\n",
       ".dataframe > tbody > tr {\n",
       "  text-align: right;\n",
       "  white-space: pre-wrap;\n",
       "}\n",
       "</style>\n",
       "<small>shape: (1, 28)</small><table border=\"1\" class=\"dataframe\"><thead><tr><th>ID</th><th>Year_Birth</th><th>Education</th><th>Marital_Status</th><th> Income </th><th>Kidhome</th><th>Teenhome</th><th>Dt_Customer</th><th>Recency</th><th>MntWines</th><th>MntFruits</th><th>MntMeatProducts</th><th>MntFishProducts</th><th>MntSweetProducts</th><th>MntGoldProds</th><th>NumDealsPurchases</th><th>NumWebPurchases</th><th>NumCatalogPurchases</th><th>NumStorePurchases</th><th>NumWebVisitsMonth</th><th>AcceptedCmp3</th><th>AcceptedCmp4</th><th>AcceptedCmp5</th><th>AcceptedCmp1</th><th>AcceptedCmp2</th><th>Response</th><th>Complain</th><th>Country</th></tr><tr><td>i64</td><td>i64</td><td>str</td><td>str</td><td>str</td><td>i64</td><td>i64</td><td>str</td><td>i64</td><td>i64</td><td>i64</td><td>i64</td><td>i64</td><td>i64</td><td>i64</td><td>i64</td><td>i64</td><td>i64</td><td>i64</td><td>i64</td><td>i64</td><td>i64</td><td>i64</td><td>i64</td><td>i64</td><td>i64</td><td>i64</td><td>str</td></tr></thead><tbody><tr><td>1826</td><td>1970</td><td>&quot;Graduation&quot;</td><td>&quot;Divorced&quot;</td><td>&quot;$84,835.00 &quot;</td><td>0</td><td>0</td><td>&quot;6/16/14&quot;</td><td>0</td><td>189</td><td>104</td><td>379</td><td>111</td><td>189</td><td>218</td><td>1</td><td>4</td><td>4</td><td>6</td><td>1</td><td>0</td><td>0</td><td>0</td><td>0</td><td>0</td><td>1</td><td>0</td><td>&quot;SP&quot;</td></tr></tbody></table></div>"
      ],
      "text/plain": [
       "shape: (1, 28)\n",
       "┌──────┬────────────┬────────────┬──────────────┬───┬──────────────┬──────────┬──────────┬─────────┐\n",
       "│ ID   ┆ Year_Birth ┆ Education  ┆ Marital_Stat ┆ … ┆ AcceptedCmp2 ┆ Response ┆ Complain ┆ Country │\n",
       "│ ---  ┆ ---        ┆ ---        ┆ us           ┆   ┆ ---          ┆ ---      ┆ ---      ┆ ---     │\n",
       "│ i64  ┆ i64        ┆ str        ┆ ---          ┆   ┆ i64          ┆ i64      ┆ i64      ┆ str     │\n",
       "│      ┆            ┆            ┆ str          ┆   ┆              ┆          ┆          ┆         │\n",
       "╞══════╪════════════╪════════════╪══════════════╪═══╪══════════════╪══════════╪══════════╪═════════╡\n",
       "│ 1826 ┆ 1970       ┆ Graduation ┆ Divorced     ┆ … ┆ 0            ┆ 1        ┆ 0        ┆ SP      │\n",
       "└──────┴────────────┴────────────┴──────────────┴───┴──────────────┴──────────┴──────────┴─────────┘"
      ]
     },
     "execution_count": 2,
     "metadata": {},
     "output_type": "execute_result"
    }
   ],
   "source": [
    "path_file= lambda x: os.path.join(os.getcwd(),'data',x)\n",
    "df = pl.read_csv(path_file('marketing_data.csv'))\n",
    "df.head(1)"
   ]
  },
  {
   "cell_type": "code",
   "execution_count": 3,
   "id": "3f6cf05e",
   "metadata": {},
   "outputs": [],
   "source": [
    "df = df.with_columns(pl.col('Dt_Customer').str.strptime(pl.Date, \"%m/%d/%y\")) # covierte a fecha"
   ]
  },
  {
   "cell_type": "code",
   "execution_count": 4,
   "id": "0ef67b45",
   "metadata": {},
   "outputs": [
    {
     "data": {
      "text/html": [
       "<div><style>\n",
       ".dataframe > thead > tr,\n",
       ".dataframe > tbody > tr {\n",
       "  text-align: right;\n",
       "  white-space: pre-wrap;\n",
       "}\n",
       "</style>\n",
       "<small>shape: (1, 28)</small><table border=\"1\" class=\"dataframe\"><thead><tr><th>id</th><th>yearbirth</th><th>education</th><th>maritalstatus</th><th>income</th><th>kidhome</th><th>teenhome</th><th>dtcustomer</th><th>recency</th><th>mntwines</th><th>mntfruits</th><th>mntmeatproducts</th><th>mntfishproducts</th><th>mntsweetproducts</th><th>mntgoldprods</th><th>numdealspurchases</th><th>numwebpurchases</th><th>numcatalogpurchases</th><th>numstorepurchases</th><th>numwebvisitsmonth</th><th>acceptedcmp3</th><th>acceptedcmp4</th><th>acceptedcmp5</th><th>acceptedcmp1</th><th>acceptedcmp2</th><th>response</th><th>complain</th><th>country</th></tr><tr><td>i64</td><td>i64</td><td>str</td><td>str</td><td>f64</td><td>i64</td><td>i64</td><td>date</td><td>i64</td><td>i64</td><td>i64</td><td>i64</td><td>i64</td><td>i64</td><td>i64</td><td>i64</td><td>i64</td><td>i64</td><td>i64</td><td>i64</td><td>i64</td><td>i64</td><td>i64</td><td>i64</td><td>i64</td><td>i64</td><td>i64</td><td>str</td></tr></thead><tbody><tr><td>1826</td><td>1970</td><td>&quot;Graduation&quot;</td><td>&quot;Divorced&quot;</td><td>84835.0</td><td>0</td><td>0</td><td>2014-06-16</td><td>0</td><td>189</td><td>104</td><td>379</td><td>111</td><td>189</td><td>218</td><td>1</td><td>4</td><td>4</td><td>6</td><td>1</td><td>0</td><td>0</td><td>0</td><td>0</td><td>0</td><td>1</td><td>0</td><td>&quot;SP&quot;</td></tr></tbody></table></div>"
      ],
      "text/plain": [
       "shape: (1, 28)\n",
       "┌──────┬───────────┬────────────┬───────────────┬───┬──────────────┬──────────┬──────────┬─────────┐\n",
       "│ id   ┆ yearbirth ┆ education  ┆ maritalstatus ┆ … ┆ acceptedcmp2 ┆ response ┆ complain ┆ country │\n",
       "│ ---  ┆ ---       ┆ ---        ┆ ---           ┆   ┆ ---          ┆ ---      ┆ ---      ┆ ---     │\n",
       "│ i64  ┆ i64       ┆ str        ┆ str           ┆   ┆ i64          ┆ i64      ┆ i64      ┆ str     │\n",
       "╞══════╪═══════════╪════════════╪═══════════════╪═══╪══════════════╪══════════╪══════════╪═════════╡\n",
       "│ 1826 ┆ 1970      ┆ Graduation ┆ Divorced      ┆ … ┆ 0            ┆ 1        ┆ 0        ┆ SP      │\n",
       "└──────┴───────────┴────────────┴───────────────┴───┴──────────────┴──────────┴──────────┴─────────┘"
      ]
     },
     "execution_count": 4,
     "metadata": {},
     "output_type": "execute_result"
    }
   ],
   "source": [
    "df = df.rename({col:col.replace(' ','').replace('_','').lower() for col in df.columns}) # renombra la columna\n",
    "df = df.with_columns(\n",
    "    pl.col('income').str.replace_all(r'[$,]', '',)  # elimina el simbolo de dolar y la coma\n",
    "    .str.replace_all(r' ', '')  # elimina los espacios\n",
    "    .cast(pl.Float64)  # convierte a float\n",
    "    .fill_null(0),  # rellena los valores nulos con 0\n",
    ")\n",
    "df.head(1)"
   ]
  },
  {
   "cell_type": "markdown",
   "id": "f6f81235",
   "metadata": {},
   "source": [
    "# Cargar datos a google cloud "
   ]
  },
  {
   "cell_type": "code",
   "execution_count": 6,
   "id": "3d30d554",
   "metadata": {},
   "outputs": [],
   "source": [
    "#pip install gcsfs\n",
    "import gcsfs"
   ]
  },
  {
   "cell_type": "markdown",
   "id": "52dd2717",
   "metadata": {},
   "source": [
    "- **fs = gcsfs.GCSFileSystemEste :** Se crea un sistema de archivos virtual para trabajar con GCS usando la librería gcsfs. Este objeto permite leer y escribir archivos directamente en GCS como si fuera un sistema de archivos normal.\n",
    "\n",
    "- **destino ='gs://data-etl-2025/datalake/datamkt.parquet'** Se define la ruta de destino en Google Cloud Storage donde se guardará el archivo Parquet.\n",
    "    - data-etl-2025 es el nombre del bucket.\n",
    "\n",
    "    - datalake/datamkt.parquet es la carpeta y nombre de archivo dentro del bucket."
   ]
  },
  {
   "cell_type": "code",
   "execution_count": null,
   "id": "d9324874",
   "metadata": {},
   "outputs": [],
   "source": [
    "# Tenemos que definiar las credenciales de Google Cloud Storage\n",
    "credentials = 'secretos/cursoetl-2025-afda877e10a1.json'\n",
    "os.environ['GOOGLE_APPLICATION_CREDENTIALS'] = credentials\n",
    "fs = gcsfs.GCSFileSystem() #Se crea un sistema de archivos virtual para trabajar con GCS usando la librería gcsfs\n",
    "destino ='gs://data-etl-2025/datalake/datamkt.parquet' # boucket de destino\n",
    "with fs.open(destino, 'wb') as f:\n",
    "    df.write_parquet(f)  # escribe el dataframe en formato parquet \n"
   ]
  }
 ],
 "metadata": {
  "kernelspec": {
   "display_name": "ML",
   "language": "python",
   "name": "python3"
  },
  "language_info": {
   "codemirror_mode": {
    "name": "ipython",
    "version": 3
   },
   "file_extension": ".py",
   "mimetype": "text/x-python",
   "name": "python",
   "nbconvert_exporter": "python",
   "pygments_lexer": "ipython3",
   "version": "3.12.9"
  }
 },
 "nbformat": 4,
 "nbformat_minor": 5
}
