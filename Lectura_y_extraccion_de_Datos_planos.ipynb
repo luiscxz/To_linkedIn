{
 "cells": [
  {
   "cell_type": "markdown",
   "id": "6e46154e",
   "metadata": {},
   "source": [
    "**Tabla de contenido**\n",
    "\n",
    "- [Librerías](#Lib)"
   ]
  },
  {
   "cell_type": "markdown",
   "id": "0976376c",
   "metadata": {},
   "source": [
    "**Extracción de datos desde archivos**"
   ]
  },
  {
   "cell_type": "markdown",
   "id": "aa649ac0",
   "metadata": {},
   "source": [
    "# Lib"
   ]
  },
  {
   "cell_type": "code",
   "execution_count": null,
   "id": "ba6c8193",
   "metadata": {},
   "outputs": [],
   "source": [
    "import pandas as pd\n",
    "import polars as pl\n",
    "import os"
   ]
  }
 ],
 "metadata": {
  "language_info": {
   "name": "python"
  }
 },
 "nbformat": 4,
 "nbformat_minor": 5
}
