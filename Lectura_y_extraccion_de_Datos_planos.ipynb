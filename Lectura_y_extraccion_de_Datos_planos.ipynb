{
 "cells": [
  {
   "cell_type": "markdown",
   "id": "6e46154e",
   "metadata": {},
   "source": [
    "**Tabla de contenido**\n",
    "\n",
    "- [Librerías](#Lib)"
   ]
  },
  {
   "cell_type": "markdown",
   "id": "0976376c",
   "metadata": {},
   "source": [
    "**Extracción de datos desde API Spotify**"
   ]
  },
  {
   "cell_type": "markdown",
   "id": "aa649ac0",
   "metadata": {},
   "source": [
    "# Lib"
   ]
  },
  {
   "cell_type": "code",
   "execution_count": null,
   "id": "ba6c8193",
   "metadata": {},
   "outputs": [],
   "source": [
    "import pandas as pd\n",
    "import polars as pl\n",
    "import os\n",
    "import json\n",
    "import requests\n",
    "import re"
   ]
  },
  {
   "cell_type": "markdown",
   "id": "5ffeddf1",
   "metadata": {},
   "source": [
    "**Definamos la ruta de trabajo y la ruta donde están las credenciales**\n",
    "\n",
    "Este código hace lo siguiente:\n",
    "\n",
    "- **Busca las credenciales de Spotify**: Primero encuentra la carpeta actual donde está el programa (getcwd). Luego busca un archivo llamado \"credentials_spotify.json\" dentro de una subcarpeta llamada \"secretos\".\n",
    "\n",
    "- **Lee las credenciales**: Abre ese archivo y extrae dos datos importantes: el \"Client ID\" y el \"Client secret\" (como un usuario y contraseña para acceder a Spotify). \n",
    "\n",
    "- **Prepara los datos para pedir acceso**: Junta esas credenciales en un paquete de datos que indica que quiere acceder con credenciales de cliente.\n",
    "- **Pide un token de acceso a Spotify**: Envía esos datos al servidor de Spotify (a la dirección \"token_url\"). Spotify verifica si las credenciales son correctas.\n",
    "\n",
    "**Obtiene la respuesta**: Si todo está bien (código 200), recibe un \"token\" (como un pase temporal) que permitirá hacer peticiones a la API de Spotify. Si hay error, muestra qué salió mal.\n",
    "\n",
    "**En resumen**: el código obtiene un permiso temporal (token) de Spotify usando credenciales guardadas en un archivo secreto."
   ]
  },
  {
   "cell_type": "code",
   "execution_count": 6,
   "id": "759f48e6",
   "metadata": {},
   "outputs": [
    {
     "name": "stdout",
     "output_type": "stream",
     "text": [
      "token válido\n"
     ]
    }
   ],
   "source": [
    "path = os.getcwd()\n",
    "path_credenciales =os.path.join(path,'secretos','credentials_spotify.json')\n",
    "\n",
    "# lee las credenciles\n",
    "with open(path_credenciales) as f:\n",
    "    credenciales = json.load(f)\n",
    "    client_id = credenciales['Client ID']\n",
    "    client_secret= credenciales['Client secret']\n",
    "\n",
    "# guarda credenciales en variable data\n",
    "data = {\n",
    "    'grant_type':'client_credentials',\n",
    "    'client_id':client_id,\n",
    "    'client_secret':client_secret\n",
    "}\n",
    "\n",
    "# crea tokenurl\n",
    "token_url = 'https://accounts.spotify.com/api/token'\n",
    "response = requests.post(token_url,data=data)\n",
    "\n",
    "if response.status_code==200:\n",
    "    token = response.json()['access_token']\n",
    "    print('token válido')\n",
    "else:\n",
    "    print('Error en la obtención del token')\n",
    "    print(response.text)"
   ]
  }
 ],
 "metadata": {
  "kernelspec": {
   "display_name": "base",
   "language": "python",
   "name": "python3"
  },
  "language_info": {
   "codemirror_mode": {
    "name": "ipython",
    "version": 3
   },
   "file_extension": ".py",
   "mimetype": "text/x-python",
   "name": "python",
   "nbconvert_exporter": "python",
   "pygments_lexer": "ipython3",
   "version": "3.12.9"
  }
 },
 "nbformat": 4,
 "nbformat_minor": 5
}
