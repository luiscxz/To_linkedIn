{
 "cells": [
  {
   "cell_type": "markdown",
   "id": "745fd8a6",
   "metadata": {},
   "source": [
    "# Ténica de limpieza y transformación de datos con decoradores"
   ]
  },
  {
   "cell_type": "markdown",
   "id": "943b3525",
   "metadata": {},
   "source": [
    "# Librerías"
   ]
  },
  {
   "cell_type": "code",
   "execution_count": 1,
   "id": "966aa237",
   "metadata": {},
   "outputs": [],
   "source": [
    "import pandas as pd"
   ]
  },
  {
   "cell_type": "code",
   "execution_count": 2,
   "id": "4cafb70c",
   "metadata": {},
   "outputs": [],
   "source": [
    "# función para limpiar datos de tipo numérico\n",
    "def clean_numeric_data(df, column_name):\n",
    "    if df[column_name].dtype == 'int64' or df[column_name].dtype == 'float64':\n",
    "        df[column_name] = pd.to_numeric(df[column_name], errors='coerce')\n",
    "        df[column_name] = df[column_name].mean()\n",
    "    \n",
    "    return df\n",
    "# función para limpiar datos de tipo cadena\n",
    "def clean_string_data(df, column_name):\n",
    "    if df[column_name].dtype == 'object':\n",
    "        df[column_name] = df[column_name].astype(str).str.lower()\n",
    "        df[column_name] = df[column_name].astype(str).str.strip()\n",
    "    \n",
    "    return df"
   ]
  },
  {
   "cell_type": "markdown",
   "id": "f215eadc",
   "metadata": {},
   "source": [
    "¿Cómo podemos encadenar estas función usando un decorador?\n",
    "\n",
    "- Lo que tenemos que hacer es una función que encadena funciones."
   ]
  },
  {
   "cell_type": "code",
   "execution_count": 3,
   "id": "e2831a23",
   "metadata": {},
   "outputs": [],
   "source": [
    "# función que encadena funciones de limpieza\n",
    "def encadenar_funciones(*funcs):\n",
    "    # definición del decorador\n",
    "    def decorator(func):\n",
    "        def wrapper(df, columna):\n",
    "            for f in funcs:\n",
    "                df = f(df, columna)\n",
    "            return func(df, columna)\n",
    "        return wrapper\n",
    "    return decorator"
   ]
  },
  {
   "cell_type": "code",
   "execution_count": 7,
   "id": "c47a0e9b",
   "metadata": {},
   "outputs": [],
   "source": [
    "# ecadenemos las funciones de limpieza\n",
    "@encadenar_funciones(clean_numeric_data, clean_string_data)\n",
    "def limpiar_datos(df, columna):\n",
    "    \"\"\"\n",
    "    Función que limpia los datos de un DataFrame en una columna específica.\n",
    "    \n",
    "    :param df: DataFrame a limpiar\n",
    "    :param columna: Nombre de la columna a limpiar\n",
    "    :return: DataFrame limpio\n",
    "    \"\"\"\n",
    "    return df"
   ]
  },
  {
   "cell_type": "code",
   "execution_count": 6,
   "id": "4289541e",
   "metadata": {},
   "outputs": [
    {
     "data": {
      "text/html": [
       "<div>\n",
       "<style scoped>\n",
       "    .dataframe tbody tr th:only-of-type {\n",
       "        vertical-align: middle;\n",
       "    }\n",
       "\n",
       "    .dataframe tbody tr th {\n",
       "        vertical-align: top;\n",
       "    }\n",
       "\n",
       "    .dataframe thead th {\n",
       "        text-align: right;\n",
       "    }\n",
       "</style>\n",
       "<table border=\"1\" class=\"dataframe\">\n",
       "  <thead>\n",
       "    <tr style=\"text-align: right;\">\n",
       "      <th></th>\n",
       "      <th>col1</th>\n",
       "      <th>col2</th>\n",
       "    </tr>\n",
       "  </thead>\n",
       "  <tbody>\n",
       "    <tr>\n",
       "      <th>0</th>\n",
       "      <td>1.0</td>\n",
       "      <td>Abc</td>\n",
       "    </tr>\n",
       "    <tr>\n",
       "      <th>1</th>\n",
       "      <td>2.0</td>\n",
       "      <td>DFG</td>\n",
       "    </tr>\n",
       "    <tr>\n",
       "      <th>2</th>\n",
       "      <td>3.0</td>\n",
       "      <td>hijk</td>\n",
       "    </tr>\n",
       "    <tr>\n",
       "      <th>3</th>\n",
       "      <td>4.0</td>\n",
       "      <td>D</td>\n",
       "    </tr>\n",
       "    <tr>\n",
       "      <th>4</th>\n",
       "      <td>5.0</td>\n",
       "      <td>None</td>\n",
       "    </tr>\n",
       "  </tbody>\n",
       "</table>\n",
       "</div>"
      ],
      "text/plain": [
       "   col1   col2\n",
       "0   1.0    Abc\n",
       "1   2.0    DFG\n",
       "2   3.0   hijk\n",
       "3   4.0      D\n",
       "4   5.0   None"
      ]
     },
     "execution_count": 6,
     "metadata": {},
     "output_type": "execute_result"
    }
   ],
   "source": [
    "data = {\n",
    "    'col1':[1, 2, 3, 4, 5,None],\n",
    "    'col2':['  Abc', '  DFG', 'hijk', 'D', None,'Nh  ']\n",
    "}\n",
    "data = pd.DataFrame(data)\n",
    "data.head()"
   ]
  },
  {
   "cell_type": "code",
   "execution_count": 9,
   "id": "e1fc2f33",
   "metadata": {},
   "outputs": [
    {
     "name": "stdout",
     "output_type": "stream",
     "text": [
      "   col1  col2\n",
      "0   1.0   abc\n",
      "1   2.0   dfg\n",
      "2   3.0  hijk\n",
      "3   4.0     d\n",
      "4   5.0  none\n",
      "5   NaN    nh\n"
     ]
    }
   ],
   "source": [
    "# Limpiar los datos\n",
    "data_limpia = limpiar_datos(data.copy(), 'col2')\n",
    "print(data_limpia)"
   ]
  }
 ],
 "metadata": {
  "kernelspec": {
   "display_name": "ML",
   "language": "python",
   "name": "python3"
  },
  "language_info": {
   "codemirror_mode": {
    "name": "ipython",
    "version": 3
   },
   "file_extension": ".py",
   "mimetype": "text/x-python",
   "name": "python",
   "nbconvert_exporter": "python",
   "pygments_lexer": "ipython3",
   "version": "3.12.9"
  }
 },
 "nbformat": 4,
 "nbformat_minor": 5
}
