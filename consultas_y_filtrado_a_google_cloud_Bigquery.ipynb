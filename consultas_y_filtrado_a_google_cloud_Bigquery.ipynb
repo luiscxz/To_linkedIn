{
 "cells": [
  {
   "cell_type": "markdown",
   "id": "c7904ba1",
   "metadata": {},
   "source": [
    "# Conexión a google cloud \n",
    "\n",
    "libreria para conectarnos:\n",
    "- pip install pandas-gbq"
   ]
  },
  {
   "cell_type": "code",
   "execution_count": 3,
   "id": "19055c4d",
   "metadata": {},
   "outputs": [],
   "source": [
    "import pandas as pd\n",
    "import pandas_gbq\n",
    "from google.oauth2 import service_account"
   ]
  },
  {
   "cell_type": "code",
   "execution_count": null,
   "id": "ac8d38d4",
   "metadata": {},
   "outputs": [],
   "source": [
    "# Establecemos las credenciales, que en este caso estan en un archivo JSON\n",
    "credentials = service_account.Credentials.from_service_account_file(\n",
    "    'secretos/credentials_bigquery.json',\n",
    "    )"
   ]
  },
  {
   "cell_type": "code",
   "execution_count": null,
   "id": "2c8d4da2",
   "metadata": {},
   "outputs": [],
   "source": [
    "# Realizamos la consulta a BigQuery\n",
    "fecha= '2012-11-01'\n",
    "query = f\"\"\"\n",
    "SELECT\n",
    "  * from WalmartSales\n",
    "WHERE\n",
    "  Date = {fecha}\n",
    "ORDER BY\n",
    "  StoreID, ProductID\n",
    "LIMIT 1000 \n",
    "\"\"\"\n",
    "df = pd.read_gbq(query, project_id='YOUR-PROJECT-ID', credentials=credentials)"
   ]
  },
  {
   "cell_type": "markdown",
   "id": "b2abccc7",
   "metadata": {},
   "source": [
    "El límite de parámetros que puedes enviar a diferentes bases de datos SQL utilizando una query desde Python depende de varios factores, incluyendo:\n",
    "\n",
    "### La base de datos específica:\n",
    "\n",
    "- **MySQL:** Tiene un límite de 65,535 parámetros en una consulta preparada.\n",
    "- **PostgreSQL:** El límite es de 32,767 parámetros por consulta.\n",
    "- **SQL Server:** Permite hasta 2,100 parámetros en una sola consulta.\n",
    "- **Oracle:** El límite puede variar según la versión y configuración, pero generalmente es de alrededor de 1,000 parámetros.\n",
    "- **SQLite:** No tiene un límite fijo en la cantidad de parámetros, pero está limitado por los recursos del sistema.\n"
   ]
  },
  {
   "cell_type": "markdown",
   "id": "0e57e042",
   "metadata": {},
   "source": [
    "# Creando una tabla en la base de datos \n",
    "\n",
    "Podemos crear una tabla en la base de datos y luego hacer un join con la tabla original. Este método es el más eficiente, pero requiere permisos para crear tablas en la base de datos."
   ]
  },
  {
   "cell_type": "code",
   "execution_count": null,
   "id": "4dc32553",
   "metadata": {},
   "outputs": [],
   "source": [
    "df_stores = df[['Store']]\n",
    "table_id = 'codigo_facilito.Store_filtered'\n",
    "project_id = 'YOUR-PROJECT-ID'\n",
    "pandas_gbq.to_gbq(df_stores,table_id, project_id=project_id, if_exists='replace')\n"
   ]
  }
 ],
 "metadata": {
  "kernelspec": {
   "display_name": "ML",
   "language": "python",
   "name": "python3"
  },
  "language_info": {
   "codemirror_mode": {
    "name": "ipython",
    "version": 3
   },
   "file_extension": ".py",
   "mimetype": "text/x-python",
   "name": "python",
   "nbconvert_exporter": "python",
   "pygments_lexer": "ipython3",
   "version": "3.12.9"
  }
 },
 "nbformat": 4,
 "nbformat_minor": 5
}
