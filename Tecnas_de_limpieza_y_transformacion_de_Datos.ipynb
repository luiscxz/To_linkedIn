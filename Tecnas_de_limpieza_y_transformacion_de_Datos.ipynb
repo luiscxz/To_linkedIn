{
 "cells": [
  {
   "cell_type": "markdown",
   "id": "94eb24f9",
   "metadata": {},
   "source": [
    "**Tabla de contenido**\n",
    "\n",
    "- [Introducción a Airbyte y su instalación](#Introduccion-a-Airbyte-y-su-instalacion)"
   ]
  },
  {
   "cell_type": "markdown",
   "id": "4c9e868d",
   "metadata": {},
   "source": [
    "# Introduccion a Airbyte y su instalacion"
   ]
  },
  {
   "cell_type": "markdown",
   "id": "9e02e546",
   "metadata": {},
   "source": [
    "Airbyte es una plataforma de código abierto diseñada para la integración de datos. Diseñada pára ayudarte a consolidar datos de diversas fuentas en tus almacenes de datos, datalakes y bases de datos. Las versiones disponibles son las siguientes:\n",
    "\n",
    "- **Airbyte Cloud:** Solución gestionada en la nube para una configuración y escalabilidad sencilla.\n",
    "- **Self-Managed Community (OSS):** Versión de código abierto para un control total y personalización.\n",
    "- **Self-Managed Enterprise:** Versión empresarial para grandes organizaciones con necesidades avanzadas."
   ]
  }
 ],
 "metadata": {
  "language_info": {
   "name": "python"
  }
 },
 "nbformat": 4,
 "nbformat_minor": 5
}
