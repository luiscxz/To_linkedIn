{
 "cells": [
  {
   "cell_type": "markdown",
   "id": "94eb24f9",
   "metadata": {},
   "source": [
    "**Tabla de contenido**\n",
    "\n",
    "- [Librerías](#Lib)\n",
    "- [Formatos de fechas](#formatos-de-fechas)"
   ]
  },
  {
   "cell_type": "markdown",
   "id": "89baadbf",
   "metadata": {},
   "source": [
    "# Lib"
   ]
  },
  {
   "cell_type": "code",
   "execution_count": 2,
   "id": "b9a95ecd",
   "metadata": {},
   "outputs": [],
   "source": [
    "import pandas as pd\n",
    "import os\n"
   ]
  },
  {
   "cell_type": "code",
   "execution_count": 3,
   "id": "024dc170",
   "metadata": {},
   "outputs": [],
   "source": [
    "path_data = os.path.join(os.getcwd(),'data')\n",
    "path_file = lambda x: os.path.join(path_data, x)"
   ]
  },
  {
   "cell_type": "code",
   "execution_count": 4,
   "id": "f6ac63c4",
   "metadata": {},
   "outputs": [
    {
     "data": {
      "text/html": [
       "<div>\n",
       "<style scoped>\n",
       "    .dataframe tbody tr th:only-of-type {\n",
       "        vertical-align: middle;\n",
       "    }\n",
       "\n",
       "    .dataframe tbody tr th {\n",
       "        vertical-align: top;\n",
       "    }\n",
       "\n",
       "    .dataframe thead th {\n",
       "        text-align: right;\n",
       "    }\n",
       "</style>\n",
       "<table border=\"1\" class=\"dataframe\">\n",
       "  <thead>\n",
       "    <tr style=\"text-align: right;\">\n",
       "      <th></th>\n",
       "      <th>Store_ID</th>\n",
       "      <th>City</th>\n",
       "      <th>Open_Date</th>\n",
       "      <th>Zip_Code</th>\n",
       "      <th>Phone</th>\n",
       "      <th>Email</th>\n",
       "    </tr>\n",
       "  </thead>\n",
       "  <tbody>\n",
       "    <tr>\n",
       "      <th>0</th>\n",
       "      <td>1</td>\n",
       "      <td>San Antonio</td>\n",
       "      <td>2003-07-24 21:45:30</td>\n",
       "      <td>78015</td>\n",
       "      <td>2136875667</td>\n",
       "      <td>store1@retail.com</td>\n",
       "    </tr>\n",
       "    <tr>\n",
       "      <th>1</th>\n",
       "      <td>2</td>\n",
       "      <td>San Antonio</td>\n",
       "      <td>2005-10-27 07:01:09</td>\n",
       "      <td>78201</td>\n",
       "      <td>2135167236</td>\n",
       "      <td>store2@retail.com</td>\n",
       "    </tr>\n",
       "    <tr>\n",
       "      <th>2</th>\n",
       "      <td>3</td>\n",
       "      <td>San Antonio</td>\n",
       "      <td>2007-02-01 16:59:13</td>\n",
       "      <td>78112</td>\n",
       "      <td>2123501192</td>\n",
       "      <td>store3@walmart.com</td>\n",
       "    </tr>\n",
       "    <tr>\n",
       "      <th>3</th>\n",
       "      <td>4</td>\n",
       "      <td>Houston</td>\n",
       "      <td>2004-07-17 00:28:08</td>\n",
       "      <td>77001</td>\n",
       "      <td>3129778178</td>\n",
       "      <td>store4@walmart.com</td>\n",
       "    </tr>\n",
       "    <tr>\n",
       "      <th>4</th>\n",
       "      <td>5</td>\n",
       "      <td>Houston</td>\n",
       "      <td>2009-04-23 01:08:37</td>\n",
       "      <td>77002</td>\n",
       "      <td>7136191883</td>\n",
       "      <td>store5@store.com</td>\n",
       "    </tr>\n",
       "  </tbody>\n",
       "</table>\n",
       "</div>"
      ],
      "text/plain": [
       "   Store_ID         City            Open_Date  Zip_Code       Phone  \\\n",
       "0         1  San Antonio  2003-07-24 21:45:30     78015  2136875667   \n",
       "1         2  San Antonio  2005-10-27 07:01:09     78201  2135167236   \n",
       "2         3  San Antonio  2007-02-01 16:59:13     78112  2123501192   \n",
       "3         4      Houston  2004-07-17 00:28:08     77001  3129778178   \n",
       "4         5      Houston  2009-04-23 01:08:37     77002  7136191883   \n",
       "\n",
       "                Email  \n",
       "0   store1@retail.com  \n",
       "1   store2@retail.com  \n",
       "2  store3@walmart.com  \n",
       "3  store4@walmart.com  \n",
       "4    store5@store.com  "
      ]
     },
     "execution_count": 4,
     "metadata": {},
     "output_type": "execute_result"
    }
   ],
   "source": [
    "# lectura de datos\n",
    "pd = pd.read_csv(path_file('TFM_Table_Store.csv'), sep=';')\n",
    "pd.head()"
   ]
  },
  {
   "cell_type": "markdown",
   "id": "2b2ae12f",
   "metadata": {},
   "source": [
    "# formatos de fechas"
   ]
  },
  {
   "cell_type": "markdown",
   "id": "6cbe3985",
   "metadata": {},
   "source": [
    "- `%Y`: Año con cuatro dígitos (por ejemplo, 2024).\n",
    "- `%y`: Año con dos dígitos (por ejemplo, 24).\n",
    "- `%m`: Mes como número decimal (01 a 12).\n",
    "- `%B`: Nombre completo del mes (por ejemplo, Enero).\n",
    "- `%b`: Nombre abreviado del mes (por ejemplo, Ene).\n",
    "- `%d`: Día del mes como número decimal (01 a 31).\n",
    "- `%A`: Nombre completo del día de la semana (por ejemplo, Lunes).\n",
    "- `%a`: Nombre abreviado del día de la semana (por ejemplo, Lun).\n",
    "- `%H`: Hora (reloj de 24 horas) como número decimal (00 a 23).\n",
    "- `%I`: Hora (reloj de 12 horas) como número decimal (01 a 12).\n",
    "- `%p`: AM/PM.\n",
    "- `%M`: Minuto como número decimal (00 a 59).\n",
    "- `%S`: Segundo como número decimal (00 a 61).\n",
    "- `%f`: Microsegundo como número decimal (000000 a 999999).\n",
    "- `%z`: Desplazamiento UTC (por ejemplo, +0100).\n",
    "- `%Z`: Nombre de la zona horaria (por ejemplo, CET).\n",
    "- `%j`: Día del año como número decimal (001 a 366).\n",
    "- `%U`: Número de la semana del año (domingo como primer día de la semana) como número decimal (00 a 53).\n",
    "- `%W`: Número de la semana del año (lunes como primer día de la semana) como número decimal (00 a 53).\n",
    "- `%c`: Representación de fecha y hora apropiada para la configuración regional.\n",
    "- `%x`: Representación de fecha apropiada para la configuración regional.\n",
    "- `%X`: Representación de hora apropiada para la configuración regional.\n",
    "\n",
    "**Ejemplos:**\n",
    "\n",
    "- `%Y-%m-%d`: `\"2024-07-28\"`\n",
    "- `%d/%m/%Y %H:%M:%S`: `\"28/07/2024 19:01:49\"`\n",
    "- `%A, %d de %B de %Y`: `\"Domingo, 28 de Julio de 2024\"`\n",
    "- `%I:%M %p`: `\"07:01 PM\"`\n"
   ]
  }
 ],
 "metadata": {
  "kernelspec": {
   "display_name": "ML",
   "language": "python",
   "name": "python3"
  },
  "language_info": {
   "codemirror_mode": {
    "name": "ipython",
    "version": 3
   },
   "file_extension": ".py",
   "mimetype": "text/x-python",
   "name": "python",
   "nbconvert_exporter": "python",
   "pygments_lexer": "ipython3",
   "version": "3.12.9"
  }
 },
 "nbformat": 4,
 "nbformat_minor": 5
}
