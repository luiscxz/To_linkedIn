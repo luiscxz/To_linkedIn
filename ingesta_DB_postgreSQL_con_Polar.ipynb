{
 "cells": [
  {
   "cell_type": "code",
   "execution_count": 2,
   "id": "a9a7c07e",
   "metadata": {},
   "outputs": [],
   "source": [
    "import polars as pl\n",
    "import os"
   ]
  },
  {
   "cell_type": "code",
   "execution_count": 4,
   "id": "88015797",
   "metadata": {},
   "outputs": [
    {
     "data": {
      "text/html": [
       "<div><style>\n",
       ".dataframe > thead > tr,\n",
       ".dataframe > tbody > tr {\n",
       "  text-align: right;\n",
       "  white-space: pre-wrap;\n",
       "}\n",
       "</style>\n",
       "<small>shape: (1, 28)</small><table border=\"1\" class=\"dataframe\"><thead><tr><th>ID</th><th>Year_Birth</th><th>Education</th><th>Marital_Status</th><th> Income </th><th>Kidhome</th><th>Teenhome</th><th>Dt_Customer</th><th>Recency</th><th>MntWines</th><th>MntFruits</th><th>MntMeatProducts</th><th>MntFishProducts</th><th>MntSweetProducts</th><th>MntGoldProds</th><th>NumDealsPurchases</th><th>NumWebPurchases</th><th>NumCatalogPurchases</th><th>NumStorePurchases</th><th>NumWebVisitsMonth</th><th>AcceptedCmp3</th><th>AcceptedCmp4</th><th>AcceptedCmp5</th><th>AcceptedCmp1</th><th>AcceptedCmp2</th><th>Response</th><th>Complain</th><th>Country</th></tr><tr><td>i64</td><td>i64</td><td>str</td><td>str</td><td>str</td><td>i64</td><td>i64</td><td>str</td><td>i64</td><td>i64</td><td>i64</td><td>i64</td><td>i64</td><td>i64</td><td>i64</td><td>i64</td><td>i64</td><td>i64</td><td>i64</td><td>i64</td><td>i64</td><td>i64</td><td>i64</td><td>i64</td><td>i64</td><td>i64</td><td>i64</td><td>str</td></tr></thead><tbody><tr><td>1826</td><td>1970</td><td>&quot;Graduation&quot;</td><td>&quot;Divorced&quot;</td><td>&quot;$84,835.00 &quot;</td><td>0</td><td>0</td><td>&quot;6/16/14&quot;</td><td>0</td><td>189</td><td>104</td><td>379</td><td>111</td><td>189</td><td>218</td><td>1</td><td>4</td><td>4</td><td>6</td><td>1</td><td>0</td><td>0</td><td>0</td><td>0</td><td>0</td><td>1</td><td>0</td><td>&quot;SP&quot;</td></tr></tbody></table></div>"
      ],
      "text/plain": [
       "shape: (1, 28)\n",
       "┌──────┬────────────┬────────────┬──────────────┬───┬──────────────┬──────────┬──────────┬─────────┐\n",
       "│ ID   ┆ Year_Birth ┆ Education  ┆ Marital_Stat ┆ … ┆ AcceptedCmp2 ┆ Response ┆ Complain ┆ Country │\n",
       "│ ---  ┆ ---        ┆ ---        ┆ us           ┆   ┆ ---          ┆ ---      ┆ ---      ┆ ---     │\n",
       "│ i64  ┆ i64        ┆ str        ┆ ---          ┆   ┆ i64          ┆ i64      ┆ i64      ┆ str     │\n",
       "│      ┆            ┆            ┆ str          ┆   ┆              ┆          ┆          ┆         │\n",
       "╞══════╪════════════╪════════════╪══════════════╪═══╪══════════════╪══════════╪══════════╪═════════╡\n",
       "│ 1826 ┆ 1970       ┆ Graduation ┆ Divorced     ┆ … ┆ 0            ┆ 1        ┆ 0        ┆ SP      │\n",
       "└──────┴────────────┴────────────┴──────────────┴───┴──────────────┴──────────┴──────────┴─────────┘"
      ]
     },
     "execution_count": 4,
     "metadata": {},
     "output_type": "execute_result"
    }
   ],
   "source": [
    "path_file= lambda x: os.path.join(os.getcwd(),'data',x)\n",
    "df = pl.read_csv(path_file('marketing_data.csv'))\n",
    "df.head(1)"
   ]
  },
  {
   "cell_type": "code",
   "execution_count": 9,
   "id": "0e6e09f3",
   "metadata": {},
   "outputs": [
    {
     "data": {
      "text/html": [
       "<div><style>\n",
       ".dataframe > thead > tr,\n",
       ".dataframe > tbody > tr {\n",
       "  text-align: right;\n",
       "  white-space: pre-wrap;\n",
       "}\n",
       "</style>\n",
       "<small>shape: (1, 28)</small><table border=\"1\" class=\"dataframe\"><thead><tr><th>ID</th><th>Year_Birth</th><th>Education</th><th>Marital_Status</th><th> Income </th><th>Kidhome</th><th>Teenhome</th><th>Dt_Customer</th><th>Recency</th><th>MntWines</th><th>MntFruits</th><th>MntMeatProducts</th><th>MntFishProducts</th><th>MntSweetProducts</th><th>MntGoldProds</th><th>NumDealsPurchases</th><th>NumWebPurchases</th><th>NumCatalogPurchases</th><th>NumStorePurchases</th><th>NumWebVisitsMonth</th><th>AcceptedCmp3</th><th>AcceptedCmp4</th><th>AcceptedCmp5</th><th>AcceptedCmp1</th><th>AcceptedCmp2</th><th>Response</th><th>Complain</th><th>Country</th></tr><tr><td>i64</td><td>i64</td><td>str</td><td>str</td><td>str</td><td>i64</td><td>i64</td><td>date</td><td>i64</td><td>i64</td><td>i64</td><td>i64</td><td>i64</td><td>i64</td><td>i64</td><td>i64</td><td>i64</td><td>i64</td><td>i64</td><td>i64</td><td>i64</td><td>i64</td><td>i64</td><td>i64</td><td>i64</td><td>i64</td><td>i64</td><td>str</td></tr></thead><tbody><tr><td>1826</td><td>1970</td><td>&quot;Graduation&quot;</td><td>&quot;Divorced&quot;</td><td>&quot;$84,835.00 &quot;</td><td>0</td><td>0</td><td>2014-06-16</td><td>0</td><td>189</td><td>104</td><td>379</td><td>111</td><td>189</td><td>218</td><td>1</td><td>4</td><td>4</td><td>6</td><td>1</td><td>0</td><td>0</td><td>0</td><td>0</td><td>0</td><td>1</td><td>0</td><td>&quot;SP&quot;</td></tr></tbody></table></div>"
      ],
      "text/plain": [
       "shape: (1, 28)\n",
       "┌──────┬────────────┬────────────┬──────────────┬───┬──────────────┬──────────┬──────────┬─────────┐\n",
       "│ ID   ┆ Year_Birth ┆ Education  ┆ Marital_Stat ┆ … ┆ AcceptedCmp2 ┆ Response ┆ Complain ┆ Country │\n",
       "│ ---  ┆ ---        ┆ ---        ┆ us           ┆   ┆ ---          ┆ ---      ┆ ---      ┆ ---     │\n",
       "│ i64  ┆ i64        ┆ str        ┆ ---          ┆   ┆ i64          ┆ i64      ┆ i64      ┆ str     │\n",
       "│      ┆            ┆            ┆ str          ┆   ┆              ┆          ┆          ┆         │\n",
       "╞══════╪════════════╪════════════╪══════════════╪═══╪══════════════╪══════════╪══════════╪═════════╡\n",
       "│ 1826 ┆ 1970       ┆ Graduation ┆ Divorced     ┆ … ┆ 0            ┆ 1        ┆ 0        ┆ SP      │\n",
       "└──────┴────────────┴────────────┴──────────────┴───┴──────────────┴──────────┴──────────┴─────────┘"
      ]
     },
     "execution_count": 9,
     "metadata": {},
     "output_type": "execute_result"
    }
   ],
   "source": [
    "df = df.with_columns(\n",
    "    pl.col('Dt_Customer').str.strptime(pl.Date, \"%m/%d/%y\"))\n",
    "df.head(1)"
   ]
  }
 ],
 "metadata": {
  "kernelspec": {
   "display_name": "ML",
   "language": "python",
   "name": "python3"
  },
  "language_info": {
   "codemirror_mode": {
    "name": "ipython",
    "version": 3
   },
   "file_extension": ".py",
   "mimetype": "text/x-python",
   "name": "python",
   "nbconvert_exporter": "python",
   "pygments_lexer": "ipython3",
   "version": "3.12.9"
  }
 },
 "nbformat": 4,
 "nbformat_minor": 5
}
